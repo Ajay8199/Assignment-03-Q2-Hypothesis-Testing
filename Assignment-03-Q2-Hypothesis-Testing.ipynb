{
 "cells": [
  {
   "cell_type": "code",
   "execution_count": 1,
   "id": "f6771dd8",
   "metadata": {},
   "outputs": [],
   "source": [
    "import pandas as pd\n",
    "import numpy as np\n",
    "from scipy import stats\n",
    "from scipy.stats import norm\n",
    "from scipy.stats import chi2_contingency"
   ]
  },
  {
   "cell_type": "code",
   "execution_count": 2,
   "id": "c2eafa0b",
   "metadata": {},
   "outputs": [],
   "source": [
    "# Q2: (A hospital wants to determine whether there is any difference in the average Turn Around Time (TAT) of reports of \n",
    "# the laboratories on their preferred list. They collected a random sample and recorded TAT for reports of 4 laboratories.\n",
    "# TAT is defined as sample collected to report dispatch.\n",
    "# Analyze the data and determine whether there is any difference in average TAT among the different laboratories at \n",
    "# 5% significance level.)\n"
   ]
  },
  {
   "cell_type": "code",
   "execution_count": 3,
   "id": "c493162a",
   "metadata": {},
   "outputs": [],
   "source": [
    "# null hypothesis is mean1 = mean2 = mean3 = mean4\n",
    "# Alternate hypothesis is mean1 != mean2 != mean3 != mean4"
   ]
  },
  {
   "cell_type": "code",
   "execution_count": 4,
   "id": "54ed010f",
   "metadata": {},
   "outputs": [],
   "source": [
    "Q2=pd.read_csv('LabTAT.csv')"
   ]
  },
  {
   "cell_type": "code",
   "execution_count": 5,
   "id": "a35bc501",
   "metadata": {},
   "outputs": [
    {
     "data": {
      "text/html": [
       "<div>\n",
       "<style scoped>\n",
       "    .dataframe tbody tr th:only-of-type {\n",
       "        vertical-align: middle;\n",
       "    }\n",
       "\n",
       "    .dataframe tbody tr th {\n",
       "        vertical-align: top;\n",
       "    }\n",
       "\n",
       "    .dataframe thead th {\n",
       "        text-align: right;\n",
       "    }\n",
       "</style>\n",
       "<table border=\"1\" class=\"dataframe\">\n",
       "  <thead>\n",
       "    <tr style=\"text-align: right;\">\n",
       "      <th></th>\n",
       "      <th>Laboratory 1</th>\n",
       "      <th>Laboratory 2</th>\n",
       "      <th>Laboratory 3</th>\n",
       "      <th>Laboratory 4</th>\n",
       "    </tr>\n",
       "  </thead>\n",
       "  <tbody>\n",
       "    <tr>\n",
       "      <th>0</th>\n",
       "      <td>185.35</td>\n",
       "      <td>165.53</td>\n",
       "      <td>176.70</td>\n",
       "      <td>166.13</td>\n",
       "    </tr>\n",
       "    <tr>\n",
       "      <th>1</th>\n",
       "      <td>170.49</td>\n",
       "      <td>185.91</td>\n",
       "      <td>198.45</td>\n",
       "      <td>160.79</td>\n",
       "    </tr>\n",
       "  </tbody>\n",
       "</table>\n",
       "</div>"
      ],
      "text/plain": [
       "   Laboratory 1  Laboratory 2  Laboratory 3  Laboratory 4\n",
       "0        185.35        165.53        176.70        166.13\n",
       "1        170.49        185.91        198.45        160.79"
      ]
     },
     "execution_count": 5,
     "metadata": {},
     "output_type": "execute_result"
    }
   ],
   "source": [
    "Q2.head(2)"
   ]
  },
  {
   "cell_type": "code",
   "execution_count": 6,
   "id": "bda0b356",
   "metadata": {},
   "outputs": [
    {
     "data": {
      "text/plain": [
       "2.1156708949992414e-57"
      ]
     },
     "execution_count": 6,
     "metadata": {},
     "output_type": "execute_result"
    }
   ],
   "source": [
    "# Anova ftest statistics: stats.f_oneway(column-1,column-2,column-3,column-4)\n",
    "p_value=stats.f_oneway(Q2.iloc[:,0],Q2.iloc[:,1],Q2.iloc[:,2],Q2.iloc[:,3])\n",
    "p_value[1]"
   ]
  },
  {
   "cell_type": "code",
   "execution_count": 7,
   "id": "f89c32f5",
   "metadata": {},
   "outputs": [
    {
     "data": {
      "text/plain": [
       "True"
      ]
     },
     "execution_count": 7,
     "metadata": {},
     "output_type": "execute_result"
    }
   ],
   "source": [
    "# compare it with α = 0.05\n",
    "0.05>p_value[1]"
   ]
  },
  {
   "cell_type": "code",
   "execution_count": 8,
   "id": "23cee356",
   "metadata": {},
   "outputs": [],
   "source": [
    "# As p_value is greater than significance value we fail to reject the null hypothesis\n",
    "# So there is no difference in average TAT among the different laboratories at 5% significance level."
   ]
  }
 ],
 "metadata": {
  "kernelspec": {
   "display_name": "Python 3 (ipykernel)",
   "language": "python",
   "name": "python3"
  },
  "language_info": {
   "codemirror_mode": {
    "name": "ipython",
    "version": 3
   },
   "file_extension": ".py",
   "mimetype": "text/x-python",
   "name": "python",
   "nbconvert_exporter": "python",
   "pygments_lexer": "ipython3",
   "version": "3.9.7"
  }
 },
 "nbformat": 4,
 "nbformat_minor": 5
}
